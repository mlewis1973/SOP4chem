{
 "cells": [
  {
   "cell_type": "code",
   "execution_count": 566,
   "id": "ee50feed",
   "metadata": {},
   "outputs": [],
   "source": [
    "import pandas as pd\n",
    "import numpy as np"
   ]
  },
  {
   "cell_type": "code",
   "execution_count": 626,
   "id": "50d801ca",
   "metadata": {},
   "outputs": [
    {
     "name": "stdout",
     "output_type": "stream",
     "text": [
      "   iteration   KeV  center  width  score\n",
      "0        1.0  40.0    50.0  380.0    4.2\n",
      "1        2.0  50.0   100.0  250.0    3.4\n",
      "2        3.0  60.0   290.0  570.0    1.3\n",
      "3        4.0  70.0   150.0  350.0    2.1\n",
      "  bound    KeV    center     width\n",
      "0     U  100.0  999999.0  999999.0\n",
      "1     L   30.0       0.0       0.0\n"
     ]
    }
   ],
   "source": [
    "df = pd.read_csv(r'26.02.23.csv')\n",
    "bounds = pd.read_csv(r'bounds.csv')\n",
    "print(df)\n",
    "print(bounds)"
   ]
  },
  {
   "cell_type": "code",
   "execution_count": 627,
   "id": "caef0662",
   "metadata": {},
   "outputs": [],
   "source": [
    "def bounds_check(vertex, bounds): # (numpy.ndarray, pd.df) \n",
    "    upper = bounds.loc[ bounds['bound'] == 'U'].drop(columns='bound').to_numpy().flatten()\n",
    "    lower = bounds.loc[ bounds['bound'] == 'L'].drop(columns='bound').to_numpy().flatten()\n",
    "    \n",
    "    inside = np.logical_and.reduce(vertex>lower) and np.logical_and.reduce(vertex<upper)\n",
    "    return inside\n",
    "\n",
    "def simplex_step(df,bounds,scale=1.):\n",
    "    Np = len(df.columns)-2 # number of parameters\n",
    "    Ns = Np + 1          # dim of simplex\n",
    "    iter_no = len(df)    # df.tail(1)['iteration'].iloc[0]\n",
    "    \n",
    "    simplex = df.tail(Ns).sort_values('score')\n",
    "    worst = simplex.head(1).to_numpy().flatten()[1:(Np+1)]\n",
    "    centroid = simplex.tail(Ns-1).to_numpy()[:,1:(Np+1)].mean(axis=0)\n",
    "        \n",
    "    new_vertex = centroid + scale*(centroid - worst)\n",
    "    \n",
    "    i = 1\n",
    "    if not isinstance(bounds,type(None)):\n",
    "        while not bounds_check(new_vertex, bounds):\n",
    "            new_vertex = centroid + ( (0.5)**i  )*scale*(centroid - worst)\n",
    "            i += 1\n",
    "            print(new_vertex)\n",
    "    \n",
    "    df = pd.concat( [df[:-Ns] , simplex] )\n",
    "    \n",
    "    df.loc[iter_no] = [iter_no+1] + new_vertex.tolist()+[-99999.]\n",
    "    return df "
   ]
  },
  {
   "cell_type": "code",
   "execution_count": 628,
   "id": "5155ee05",
   "metadata": {},
   "outputs": [
    {
     "name": "stdout",
     "output_type": "stream",
     "text": [
      "[ 50.   5. 205.]\n",
      "   iteration   KeV  center  width    score\n",
      "2        3.0  60.0   290.0  570.0      1.3\n",
      "3        4.0  70.0   150.0  350.0      2.1\n",
      "1        2.0  50.0   100.0  250.0      3.4\n",
      "0        1.0  40.0    50.0  380.0      4.2\n",
      "4        5.0  50.0     5.0  205.0 -99999.0\n"
     ]
    }
   ],
   "source": [
    "df=simplex_step(df,bounds)\n",
    "print(df)"
   ]
  },
  {
   "cell_type": "code",
   "execution_count": 629,
   "id": "0375fcf3",
   "metadata": {},
   "outputs": [],
   "source": [
    "new_score = 4.11111111"
   ]
  },
  {
   "cell_type": "code",
   "execution_count": 630,
   "id": "39b38634",
   "metadata": {},
   "outputs": [
    {
     "name": "stdout",
     "output_type": "stream",
     "text": [
      "   iteration   KeV  center  width     score\n",
      "2        3.0  60.0   290.0  570.0  1.300000\n",
      "3        4.0  70.0   150.0  350.0  2.100000\n",
      "1        2.0  50.0   100.0  250.0  3.400000\n",
      "0        1.0  40.0    50.0  380.0  4.200000\n",
      "4        5.0  50.0     5.0  205.0  4.111111\n",
      "1.0\n"
     ]
    }
   ],
   "source": [
    "if new_score > previous_scores[-1]: # expansion rule 1\n",
    "    scale = 2.0 \n",
    "    #df = pd.concat( [ df.tail(1) , df.head( len(df)-1 ) ] ) \n",
    "    df = df.head( len(df)-1 )\n",
    "    df = simplex_step(df,bounds,scale)\n",
    "elif new_score > previous_scores[-2]: # accept simplex rule 2\n",
    "    scale = 1.0\n",
    "elif new_score > previous_scores[0]: # mini-expansion rule 3a\n",
    "    scale = 0.5\n",
    "    df = df.head( len(df)-1 )\n",
    "    df = simplex_step(df,bounds,scale)\n",
    "else: # mini-contraction rule 3b\n",
    "    scale = -0.5\n",
    "    df = df.head( len(df)-1 )\n",
    "    df = simplex_step(df,bounds,scale)\n",
    "    \n",
    "df.at[ df.index[-1],'score'] = new_score\n",
    "    \n",
    "    \n",
    "print(df)\n",
    "print(scale)"
   ]
  },
  {
   "cell_type": "code",
   "execution_count": 631,
   "id": "cf1a9b85",
   "metadata": {},
   "outputs": [
    {
     "name": "stdout",
     "output_type": "stream",
     "text": [
      "[ 35.    2.5 242.5]\n"
     ]
    },
    {
     "data": {
      "text/html": [
       "<div>\n",
       "<style scoped>\n",
       "    .dataframe tbody tr th:only-of-type {\n",
       "        vertical-align: middle;\n",
       "    }\n",
       "\n",
       "    .dataframe tbody tr th {\n",
       "        vertical-align: top;\n",
       "    }\n",
       "\n",
       "    .dataframe thead th {\n",
       "        text-align: right;\n",
       "    }\n",
       "</style>\n",
       "<table border=\"1\" class=\"dataframe\">\n",
       "  <thead>\n",
       "    <tr style=\"text-align: right;\">\n",
       "      <th></th>\n",
       "      <th>iteration</th>\n",
       "      <th>KeV</th>\n",
       "      <th>center</th>\n",
       "      <th>width</th>\n",
       "      <th>score</th>\n",
       "    </tr>\n",
       "  </thead>\n",
       "  <tbody>\n",
       "    <tr>\n",
       "      <th>2</th>\n",
       "      <td>3.0</td>\n",
       "      <td>60.0</td>\n",
       "      <td>290.0</td>\n",
       "      <td>570.0</td>\n",
       "      <td>1.300000</td>\n",
       "    </tr>\n",
       "    <tr>\n",
       "      <th>3</th>\n",
       "      <td>4.0</td>\n",
       "      <td>70.0</td>\n",
       "      <td>150.0</td>\n",
       "      <td>350.0</td>\n",
       "      <td>2.100000</td>\n",
       "    </tr>\n",
       "    <tr>\n",
       "      <th>1</th>\n",
       "      <td>2.0</td>\n",
       "      <td>50.0</td>\n",
       "      <td>100.0</td>\n",
       "      <td>250.0</td>\n",
       "      <td>3.400000</td>\n",
       "    </tr>\n",
       "    <tr>\n",
       "      <th>4</th>\n",
       "      <td>5.0</td>\n",
       "      <td>50.0</td>\n",
       "      <td>5.0</td>\n",
       "      <td>205.0</td>\n",
       "      <td>4.111111</td>\n",
       "    </tr>\n",
       "    <tr>\n",
       "      <th>0</th>\n",
       "      <td>1.0</td>\n",
       "      <td>40.0</td>\n",
       "      <td>50.0</td>\n",
       "      <td>380.0</td>\n",
       "      <td>4.200000</td>\n",
       "    </tr>\n",
       "    <tr>\n",
       "      <th>5</th>\n",
       "      <td>6.0</td>\n",
       "      <td>35.0</td>\n",
       "      <td>2.5</td>\n",
       "      <td>242.5</td>\n",
       "      <td>-99999.000000</td>\n",
       "    </tr>\n",
       "  </tbody>\n",
       "</table>\n",
       "</div>"
      ],
      "text/plain": [
       "   iteration   KeV  center  width         score\n",
       "2        3.0  60.0   290.0  570.0      1.300000\n",
       "3        4.0  70.0   150.0  350.0      2.100000\n",
       "1        2.0  50.0   100.0  250.0      3.400000\n",
       "4        5.0  50.0     5.0  205.0      4.111111\n",
       "0        1.0  40.0    50.0  380.0      4.200000\n",
       "5        6.0  35.0     2.5  242.5 -99999.000000"
      ]
     },
     "execution_count": 631,
     "metadata": {},
     "output_type": "execute_result"
    }
   ],
   "source": [
    "df =simplex_step(df, bounds)\n",
    "df"
   ]
  },
  {
   "cell_type": "code",
   "execution_count": 617,
   "id": "6f563b05",
   "metadata": {},
   "outputs": [],
   "source": [
    "new_score=5.55555"
   ]
  },
  {
   "cell_type": "code",
   "execution_count": null,
   "id": "b46ae04a",
   "metadata": {},
   "outputs": [],
   "source": []
  }
 ],
 "metadata": {
  "kernelspec": {
   "display_name": "Python 3 (ipykernel)",
   "language": "python",
   "name": "python3"
  },
  "language_info": {
   "codemirror_mode": {
    "name": "ipython",
    "version": 3
   },
   "file_extension": ".py",
   "mimetype": "text/x-python",
   "name": "python",
   "nbconvert_exporter": "python",
   "pygments_lexer": "ipython3",
   "version": "3.7.12"
  }
 },
 "nbformat": 4,
 "nbformat_minor": 5
}
